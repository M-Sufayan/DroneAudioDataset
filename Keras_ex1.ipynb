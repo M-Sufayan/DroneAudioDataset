{
  "nbformat": 4,
  "nbformat_minor": 0,
  "metadata": {
    "colab": {
      "name": "Keras ex1.ipynb",
      "provenance": [],
      "authorship_tag": "ABX9TyMqnfCeEPl6cBrYV0+gUc5K",
      "include_colab_link": true
    },
    "kernelspec": {
      "name": "python3",
      "display_name": "Python 3"
    },
    "language_info": {
      "name": "python"
    }
  },
  "cells": [
    {
      "cell_type": "markdown",
      "metadata": {
        "id": "view-in-github",
        "colab_type": "text"
      },
      "source": [
        "<a href=\"https://colab.research.google.com/github/M-Sufayan/DroneAudioDataset/blob/master/Keras_ex1.ipynb\" target=\"_parent\"><img src=\"https://colab.research.google.com/assets/colab-badge.svg\" alt=\"Open In Colab\"/></a>"
      ]
    },
    {
      "cell_type": "code",
      "metadata": {
        "colab": {
          "base_uri": "https://localhost:8080/",
          "height": 488
        },
        "id": "fNeqyBFiaBgN",
        "outputId": "def0c669-4c9f-470b-ce09-931ba517e5e9"
      },
      "source": [
        "from keras.datasets import mnist\n",
        "import tensorflow as tf\n",
        "#download mnist data and split into train and test sets\n",
        "(X_train, y_train), (X_test, y_test) = mnist.load_data()\n",
        "import matplotlib.pyplot as plt\n",
        "#plot the first image in the dataset\n",
        "plt.imshow(X_train[3])\n",
        "#check image shape\n",
        "X_train[0].shape\n",
        "#reshape data to fit model\n",
        "X_train = X_train.reshape(60000,28,28,1)\n",
        "X_test = X_test.reshape(10000,28,28,1)\n",
        "\n",
        "#one-hot encode target column\n",
        "y_train = tf.keras.utils.to_categorical(y_train)\n",
        "y_test = tf.keras.utils.to_categorical(y_test)\n",
        "y_train[0]\n",
        "from keras.models import Sequential\n",
        "from keras.layers import Dense, Conv2D, Flatten\n",
        "#create model\n",
        "model = Sequential()\n",
        "#add model layers\n",
        "model.add(Convolution2D(64, kernel_size=3, activation='relu', input_shape=(28,28,1)))\n",
        "model.add(Convolution2D(32, kernel_size=3, activation='relu'))\n",
        "\n",
        "model.add(Flatten())\n",
        "model.add(Dense(10, activation='softmax'))\n",
        "#compile model using accuracy to measure model performance\n",
        "model.compile(optimizer='adam', loss='categorical_crossentropy', metrics=['accuracy'])\n",
        "#train the model\n",
        "model.fit(X_train, y_train, validation_data=(X_test, y_test), epochs=1)\n",
        "#predict first 4 images in the test set\n",
        "model.predict(X_test[:4])\n"
      ],
      "execution_count": 42,
      "outputs": [
        {
          "output_type": "stream",
          "name": "stdout",
          "text": [
            "1875/1875 [==============================] - 172s 91ms/step - loss: 0.2554 - accuracy: 0.9491 - val_loss: 0.1064 - val_accuracy: 0.9688\n"
          ]
        },
        {
          "output_type": "execute_result",
          "data": {
            "text/plain": [
              "array([[7.5627938e-08, 7.2617281e-12, 2.3694268e-07, 3.4743246e-06,\n",
              "        6.3608896e-11, 6.3827472e-09, 1.0911547e-11, 9.9999607e-01,\n",
              "        7.0385338e-09, 5.7470210e-08],\n",
              "       [1.8166642e-06, 3.5792525e-06, 9.9959868e-01, 1.1089397e-07,\n",
              "        1.4888954e-07, 5.1172795e-11, 3.9571783e-04, 5.0780571e-11,\n",
              "        4.6799705e-08, 2.0187792e-11],\n",
              "       [3.7008636e-09, 9.9967575e-01, 4.1818889e-06, 8.3725915e-08,\n",
              "        1.8990783e-04, 7.0657561e-06, 2.3026034e-06, 9.4153504e-05,\n",
              "        2.6447573e-05, 8.0868567e-08],\n",
              "       [9.9998450e-01, 2.3843736e-11, 1.8275362e-06, 6.4886578e-08,\n",
              "        4.7889421e-06, 6.0987429e-07, 7.3991155e-06, 1.3133668e-08,\n",
              "        2.9880579e-07, 5.3794327e-07]], dtype=float32)"
            ]
          },
          "metadata": {},
          "execution_count": 42
        },
        {
          "output_type": "display_data",
          "data": {
            "image/png": "[encoded data removed]",
            "text/plain": [
              "<Figure size 432x288 with 1 Axes>"
            ]
          },
          "metadata": {
            "needs_background": "light"
          }
        }
      ]
    },
    {
      "cell_type": "code",
      "metadata": {
        "colab": {
          "base_uri": "https://localhost:8080/"
        },
        "id": "4KRe2XufwD8w",
        "outputId": "94684a78-9f36-44ca-932e-db87ac9b05ab"
      },
      "source": [
        ""
      ],
      "execution_count": 44,
      "outputs": [
        {
          "output_type": "execute_result",
          "data": {
            "text/plain": [
              "array([[7.56279377e-08, 7.26172811e-12, 2.36942682e-07, 3.47432456e-06,\n",
              "        6.36088959e-11, 6.38274722e-09, 1.09115468e-11, 9.99996066e-01,\n",
              "        7.03853376e-09, 5.74702099e-08],\n",
              "       [1.81666417e-06, 3.57925251e-06, 9.99598682e-01, 1.10893971e-07,\n",
              "        1.48889541e-07, 5.11727952e-11, 3.95717827e-04, 5.07805707e-11,\n",
              "        4.67997054e-08, 2.01877924e-11],\n",
              "       [3.70086362e-09, 9.99675751e-01, 4.18188893e-06, 8.37259151e-08,\n",
              "        1.89907834e-04, 7.06575611e-06, 2.30260343e-06, 9.41535036e-05,\n",
              "        2.64475730e-05, 8.08685670e-08],\n",
              "       [9.99984503e-01, 2.38437360e-11, 1.82753615e-06, 6.48865779e-08,\n",
              "        4.78894208e-06, 6.09874292e-07, 7.39911547e-06, 1.31336684e-08,\n",
              "        2.98805787e-07, 5.37943265e-07],\n",
              "       [9.64787272e-09, 3.57548084e-13, 4.25638618e-08, 9.10502063e-10,\n",
              "        9.99999285e-01, 9.83378379e-10, 1.41306576e-11, 3.25534245e-07,\n",
              "        1.40181933e-09, 3.74599693e-07],\n",
              "       [1.08056316e-11, 9.99980927e-01, 5.58845485e-08, 1.10849141e-09,\n",
              "        1.26711702e-05, 5.06587980e-08, 3.95720923e-09, 6.17977730e-06,\n",
              "        1.76640796e-07, 1.39398149e-09],\n",
              "       [4.04014279e-12, 5.14378229e-08, 4.63342573e-08, 6.68799238e-09,\n",
              "        9.99714077e-01, 2.38191106e-07, 3.23138710e-10, 1.74489841e-07,\n",
              "        2.79196276e-04, 6.24993436e-06],\n",
              "       [2.30453538e-11, 5.80309916e-08, 3.74988133e-07, 1.05196330e-06,\n",
              "        2.89324252e-03, 7.63945354e-06, 1.01772368e-08, 4.26480042e-08,\n",
              "        1.98283806e-06, 9.97095585e-01],\n",
              "       [1.20970681e-05, 2.41142557e-11, 8.79075117e-07, 1.28470924e-06,\n",
              "        2.40177051e-05, 7.41225481e-01, 2.38959238e-01, 8.39840489e-11,\n",
              "        1.97729915e-02, 3.99825058e-06],\n",
              "       [1.60836620e-07, 1.14228370e-10, 1.05661808e-08, 1.65863821e-05,\n",
              "        1.91989052e-03, 1.42930037e-06, 3.62390779e-07, 2.95880586e-01,\n",
              "        4.96883236e-04, 7.01684058e-01],\n",
              "       [9.99904156e-01, 8.00106051e-15, 3.58529739e-08, 1.94954786e-09,\n",
              "        2.46674144e-12, 2.51895500e-07, 3.99149336e-09, 5.68547501e-11,\n",
              "        9.47864537e-05, 7.94034236e-07],\n",
              "       [3.39707971e-04, 7.69100783e-09, 4.01818909e-07, 3.24850191e-08,\n",
              "        3.07686696e-06, 8.80177133e-04, 9.98511612e-01, 4.94226633e-08,\n",
              "        2.63427239e-04, 1.48990614e-06],\n",
              "       [2.64995691e-07, 2.59242437e-11, 2.70465517e-08, 3.74141177e-06,\n",
              "        9.43459047e-04, 4.67819082e-05, 1.02514253e-09, 3.03250854e-03,\n",
              "        2.90018179e-05, 9.95944202e-01],\n",
              "       [9.99893785e-01, 3.92641149e-15, 1.44527746e-07, 1.41248847e-07,\n",
              "        2.16713776e-08, 2.42626829e-05, 3.12076081e-05, 1.51153671e-07,\n",
              "        2.92821005e-05, 2.10557937e-05],\n",
              "       [4.61290846e-08, 9.99844193e-01, 1.75041510e-08, 8.77434388e-07,\n",
              "        5.39024450e-06, 4.57538903e-07, 5.84569193e-07, 1.38897747e-08,\n",
              "        1.48349252e-04, 5.31634576e-08],\n",
              "       [1.84192761e-09, 3.50872831e-10, 8.04422662e-09, 9.92843707e-05,\n",
              "        1.05538980e-10, 9.99870539e-01, 9.53444435e-09, 1.46412251e-08,\n",
              "        3.01714663e-05, 1.38178566e-10],\n",
              "       [7.81651295e-07, 7.56851287e-13, 5.80261847e-08, 1.91062486e-06,\n",
              "        3.47394962e-04, 4.95704580e-06, 8.07214129e-10, 5.22276573e-03,\n",
              "        9.26607936e-06, 9.94412959e-01],\n",
              "       [6.70684273e-08, 7.88811811e-12, 1.12185665e-08, 1.01213959e-06,\n",
              "        2.73655421e-11, 2.08426276e-09, 1.13826982e-12, 9.99998927e-01,\n",
              "        1.67743971e-10, 8.61944294e-09],\n",
              "       [4.16192415e-05, 1.48594381e-07, 2.30844878e-03, 1.54166535e-01,\n",
              "        1.99760907e-04, 2.52112169e-02, 1.91830932e-05, 1.81327499e-02,\n",
              "        7.99915612e-01, 4.64121968e-06],\n",
              "       [1.37143023e-11, 3.66449995e-11, 2.82572010e-09, 2.06282724e-09,\n",
              "        9.99979973e-01, 2.60220020e-07, 2.25914912e-11, 1.95670546e-05,\n",
              "        1.87644602e-07, 7.67030315e-08]], dtype=float32)"
            ]
          },
          "metadata": {},
          "execution_count": 44
        }
      ]
    }
  ]
}